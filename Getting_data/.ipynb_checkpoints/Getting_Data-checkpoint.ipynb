{
 "cells": [
  {
   "cell_type": "markdown",
   "metadata": {},
   "source": [
    "### Modules"
   ]
  },
  {
   "cell_type": "code",
   "execution_count": 1,
   "metadata": {},
   "outputs": [],
   "source": [
    "#pip install pandas-datareader\n",
    "#pip install yfinance"
   ]
  },
  {
   "cell_type": "code",
   "execution_count": 2,
   "metadata": {},
   "outputs": [],
   "source": [
    "import urllib.request\n",
    "import requests\n",
    "import pycurl\n",
    "import json\n",
    "import datetime as dt\n",
    "from datetime import date, datetime, timedelta\n",
    "import pandas as pd\n",
    "import numpy as np\n",
    "import seaborn as sns\n",
    "import matplotlib.pyplot as plt\n",
    "import pandas_datareader as pdr\n",
    "import http.client as http\n",
    "plt.rcParams['figure.figsize'] = [50, 15]\n",
    "import yfinance as yf"
   ]
  },
  {
   "cell_type": "markdown",
   "metadata": {},
   "source": [
    "### Getting price data"
   ]
  },
  {
   "cell_type": "markdown",
   "metadata": {},
   "source": [
    "##### First of all we must get the indicator so we can acquire the info of that indicator from the API"
   ]
  },
  {
   "cell_type": "code",
   "execution_count": 98,
   "metadata": {},
   "outputs": [],
   "source": [
    "class data_recollection(object):\n",
    "    \"\"\"\n",
    "    With this class we are resuming all the steps for getting the data into some functions. \n",
    "    \"\"\"\n",
    "    def __init__(self):\n",
    "        None\n",
    "        \n",
    "    def get_list_indicators(self):\n",
    "        \"\"\"\n",
    "        A function to get the list of all the indicators that we can find in the ESIOS API\n",
    "        \"\"\"\n",
    "        token = '3eae9719f5c8a0dff1c71bb3a6e709bbc37bfce5f6df3662789a1c6fee2ebd67'\n",
    "        #First, we set the url:\n",
    "        url_esios1='https://api.esios.ree.es/indicators'\n",
    "        #After that, we manage to request the dictionary with the indicators from the webpage:\n",
    "        request = urllib.request.Request(url_esios1)\n",
    "        head=[\"Authorization: Token token=\\\"\"+token+\"\\\"\"]\n",
    "        request.add_header(\"Authorization\",\"Token token=\\\"\"+token+\"\\\"\")\n",
    "        response = urllib.request.urlopen(request)\n",
    "        responseStr = str(response.read().decode('utf-8'))\n",
    "\n",
    "        # We fetch json from the response\n",
    "        js = json.loads(responseStr)\n",
    "\n",
    "        dicc=js['indicators']\n",
    "\n",
    "        #We put the results into a list so we can look through it:\n",
    "        busqueda=[]\n",
    "        for diccionario in dicc:\n",
    "            busqueda.append(diccionario)\n",
    "        # Finally, we return de results\n",
    "        return busqueda\n",
    "\n",
    "    def get_indicator(self,indicator,date_today=date.today().strftime(\"%Y-%m-%d\")):\n",
    "        \"\"\"\n",
    "        With this function we will connect to the server of ESIOS and we will get the info of the indicator that we want until the\n",
    "        date that we indicate. As default, it will be set until today. The parameters are:\n",
    "            - indicator: number of the indicator according to the dictionary that we have\n",
    "            - date: limit day for the info. format \"Year-month-day\"\n",
    "        \"\"\"\n",
    "        token = '3eae9719f5c8a0dff1c71bb3a6e709bbc37bfce5f6df3662789a1c6fee2ebd67'\n",
    "        http.HTTPConnection._http_vsn = 10\n",
    "        http.HTTPConnection._http_vsn_str = 'HTTP/1.0'\n",
    "        # Set URL value\n",
    "        url='https://api.esios.ree.es/indicators/'+str(indicator)+'?start_date=2014-04-01T00%3A00%3A00Z&end_date='+date_today+'T23%3A50%3A00Z&groupby=hour'\n",
    "        # Get the request\n",
    "        request = urllib.request.Request(url)\n",
    "        request.add_header(\"Authorization\",\"Token token=\\\"\"+token+\"\\\"\")\n",
    "        response = urllib.request.urlopen(request)\n",
    "        responseStr = str(response.read().decode('utf-8'))\n",
    "        # Fetch json from the response\n",
    "        data = json.loads(responseStr)\n",
    "        indicators = data['indicator'] \n",
    "        return indicators       \n",
    "        \n",
    "    def get_values(self,data):\n",
    "        \"\"\"\n",
    "        With this function we will manage to get the values of the dictionary and create a dataframe with\n",
    "        the info that we want.\n",
    "        \"\"\"\n",
    "        # First we get the values from the dictionary\n",
    "        data_list = list(data['values'])\n",
    "        # Then we create a df with the values that we are interested in:\n",
    "        value=[]\n",
    "        datetime=[]\n",
    "        datetime_utc=[]\n",
    "        tz_time=[]\n",
    "        geo_id=[]\n",
    "        geo_name=[]\n",
    "        for dic in data_list:\n",
    "            value.append(dic['value'])\n",
    "            datetime.append(dic['datetime'])\n",
    "            datetime_utc.append(dic['datetime_utc'])\n",
    "            tz_time.append(dic['tz_time'])\n",
    "            geo_id.append(dic['geo_id'])\n",
    "            geo_name.append(dic['geo_name'])\n",
    "        #We create the dictionary and change de data types.\n",
    "        df=pd.DataFrame({'value':value,'datetime':datetime,'datetime_utc':datetime_utc,'tz_time':tz_time,'geo_id':geo_id,'geo_name':geo_name},)\n",
    "        df['datetime']=pd.to_datetime(df['datetime'])\n",
    "        df['datetime_utc']=pd.to_datetime(df['datetime_utc'])\n",
    "        df['tz_time']=pd.to_datetime(df['tz_time'])\n",
    "        df=df[(df['geo_name']=='España')|(df['geo_name']=='Península')]\n",
    "        return df    \n",
    "    \n",
    "    def worldbank_info(self,indicator):\n",
    "        \"\"\"\n",
    "        With this function we will get the information necessary from the worldbank api. We just need to add the \n",
    "        indicator and we will get a dataframe with the date, the value and the unit\n",
    "        \"\"\"\n",
    "            # Set URL value\n",
    "        url_worldbank=' http://api.worldbank.org/v2/country/all/indicator/'+indicator+'?per_page=20000&format=json'\n",
    "            # Get the request\n",
    "        request = urllib.request.Request(url_worldbank)\n",
    "        response = urllib.request.urlopen(request)\n",
    "        responseStr = str(response.read().decode('utf-8'))\n",
    "            # Fetch json from the response\n",
    "        data = json.loads(responseStr)\n",
    "            # Then we get the values from the json\n",
    "        valor=[]\n",
    "        fecha=[]\n",
    "        unidad=[]\n",
    "        for cell in data[1]:\n",
    "            if cell['country']['value']=='Spain':\n",
    "                valor.append(cell['value'])\n",
    "                fecha.append(cell['date'])\n",
    "            else:\n",
    "                continue\n",
    "            # Create the dataframe with the values.\n",
    "        df = pd.DataFrame({'date':fecha,'value':valor})\n",
    "        df[['value']]=df[['value']].astype(float)\n",
    "        df[['date']]=df[['date']].astype(int)\n",
    "        df2 = df[(df['date']>=2014) & (df['date']<=2020)]\n",
    "        return df2\n",
    "    \n",
    "    def finance_data(self,indicator):\n",
    "        \"\"\"\n",
    "        With this function we will get the stock market historical values from Yahoo! Finance for the indicator we decide.\n",
    "        \"\"\"\n",
    "        ree = pdr.data.DataReader(indicator,\"yahoo\", start=datetime(2014, 4, 1), end=datetime.now())\n",
    "        return ree['Adj Close'] \n",
    "\n",
    "    def national_holidays(self):\n",
    "        \"\"\"\n",
    "        We will indicate the days that are festive for the whole country:\n",
    "            - 1 de Enero -> Año nuevo\n",
    "            - 6 de Enero -> Reyes - Epifanía del Señor\n",
    "            - 10 de Abril -> Viernes Santo\n",
    "            - 1 de Mayo -> Fiesta del Trabajo\n",
    "            - 15 de Agosto -> Asunción de la Virgen\n",
    "            - 12 de Octubre -> Día de la Hispanidad\n",
    "            - 8 de Diciembre -> Inmaculada Concepción\n",
    "            - 25 de Diciembre -> Navidad\n",
    "        \"\"\"\n",
    "        festivos=[[1,1,1],[6,1,1],[10,4,1],[1,5,1],[15,8,1],[12,10,1],[8,12,1],[25,12,1]]\n",
    "        df_fest=pd.DataFrame(festivos,columns=['day','month','value'])\n",
    "        return df_fest\n",
    "\n",
    "    def pib_data(self):\n",
    "        pib=pd.DataFrame()\n",
    "        for i in reversed(range(2014,(datetime.today().year+1))):\n",
    "            url='https://datosmacro.expansion.com/pib/espana?anio='+str(i)\n",
    "            df=pd.read_html(url)\n",
    "            pib_anio=df[0]\n",
    "            pib_anio.drop(pib_anio.tail(1).index,inplace=True)\n",
    "            pib=pib.append(pib_anio)\n",
    "        return pib"
   ]
  },
  {
   "cell_type": "markdown",
   "metadata": {},
   "source": [
    "Indicadores que tenemos:\n",
    "\n",
    "- 1014 : PVPC en dos tiempos\n",
    "\n",
    "- 1013 : PVPC en un tiempo\n",
    "\n",
    "- 1293 : Demanda real\n",
    "\n",
    "- 10229 : PVPC en un tiempo (si te metes en la pagina web aparece desglosado)\n",
    "\n",
    "- 10230 : PVPC en dos tiempos (si te metes en la pagina web aparece desglosado)\n",
    "\n",
    "- 600 : precio marginal mercado diario\n",
    "\n",
    "- 10027 : prevision de demanda electrica\n",
    "\n",
    "- 10010 : generacion programada de energía eólica\n",
    "\n",
    "- 10008 : Su desglose muestra la energía programada por tipo de producción del Carbón.\n",
    "\n",
    "- 612 : Precio marginal mercado intradiario sesion 1\n",
    "\n",
    "- 613 : Precio marginal mercado intradiario sesion 2\n",
    "\n",
    "- 542 : Generación prevista Solar\n",
    "\n",
    "- 460 : Calendario de la demanda diaria eléctrica peninsular según la prevision\n",
    "\n",
    "- 369 : Demana programada correción eolica\n",
    "\n",
    "- 370 : Demana programada correción solar\n",
    "\n",
    "- 541 : Previsión de la producción eólica nacional peninsular\n",
    "\n",
    "- 805 : Precio medio horario componente mercado diario\n",
    "\n",
    "- 92 : Generación Biogas\n",
    "\n",
    "- 91 : Generacion Biomasa\n",
    "\n",
    "- 79 : Generacion ciclo combinado\n",
    "\n",
    "- 95 : Generacion consumo bombeo\n",
    "\n",
    "- 88 : Generacion derivados de petroleo o carbon\n",
    "\n",
    "- 90 : Generacion energia residual\n",
    "\n",
    "- 96 : Generacion enlace baleares\n",
    "\n",
    "- 82 : Generacion eolica terrestre\n",
    "\n",
    "- 81 : Generacion gas natural\n",
    "\n",
    "- 87 : Generacion gas natural cogeneracion\n",
    "\n",
    "- 71 : Generacion hidraulica UGH\n",
    "\n",
    "- 72 : Generacion hidraulica no UGH\n",
    "\n",
    "- 77 : Generacion hulla-antracita\n",
    "\n",
    "- 78 : Generacion hulla sub-bituminosa\n",
    "\n",
    "- 74 : Generacion nuclear\n",
    "\n",
    "- 86 : Generacion oceano y geotermica\n",
    "\n",
    "- 93 : Generacion residuos domesticos\n",
    "\n",
    "- 94 : Generacion varios\n",
    "\n",
    "- 84 : Generacion solar fotovoltaica\n",
    "\n",
    "- 85 : Generacion solar termica\n",
    "\n",
    "- 89 : Generacion subproductos mineria\n",
    "\n",
    "- 73 : Generacion turbinación bombeo\n",
    "\n",
    "\n",
    "indicador yahoo:\n",
    "\n",
    " - REE.MC -> Red electrica española\n",
    " \n",
    " - %5EIBEX -> IBEX35"
   ]
  },
  {
   "cell_type": "markdown",
   "metadata": {},
   "source": [
    "data: https://databank.worldbank.org/home.aspx\n",
    "\n",
    "Consumer price index (2010 = 100) (FP.CPI.TOTL)\n",
    "\n",
    "Time required to get electricity (days) (IC.ELC.TIME)\n",
    "\n",
    "Inflation, consumer prices (annual %) (FP.CPI.TOTL.ZG)\n",
    "\n",
    "Employment in industry (% of total employment) (modeled ILO estimate) (SL.IND.EMPL.ZS)"
   ]
  },
  {
   "cell_type": "markdown",
   "metadata": {},
   "source": [
    "## Merging data"
   ]
  },
  {
   "cell_type": "markdown",
   "metadata": {},
   "source": [
    "Now that the class is defined, we are ready to get all the information and manage to manipulate all the tables in order to get our final dataframe."
   ]
  },
  {
   "cell_type": "markdown",
   "metadata": {},
   "source": [
    "### 1. ESIOS info"
   ]
  },
  {
   "cell_type": "markdown",
   "metadata": {},
   "source": [
    "We will create a list in which every element will be a dataframe, so we will end up with a list of dataframes that we will join later."
   ]
  },
  {
   "cell_type": "code",
   "execution_count": 4,
   "metadata": {},
   "outputs": [],
   "source": [
    "indicators_list=[460,600,612,613,369,370,92,91,79,95,88,90,96,82,81,87,71,72,77,78,74,86,93,94,84,85,89,73]\n",
    "objective=1014\n",
    "all=[460,600,612,613,369,370,92,91,79,95,88,90,96,82,81,87,71,72,77,78,74,86,93,94,84,85,89,73,1014]"
   ]
  },
  {
   "cell_type": "markdown",
   "metadata": {},
   "source": [
    "First we call the class:"
   ]
  },
  {
   "cell_type": "code",
   "execution_count": 99,
   "metadata": {},
   "outputs": [],
   "source": [
    "data_rec=data_recollection()"
   ]
  },
  {
   "cell_type": "markdown",
   "metadata": {},
   "source": [
    "Then we get the values for the indicators:"
   ]
  },
  {
   "cell_type": "code",
   "execution_count": 6,
   "metadata": {},
   "outputs": [],
   "source": [
    "data_list = [data_rec.get_indicator(ind) for ind in indicators_list]"
   ]
  },
  {
   "cell_type": "code",
   "execution_count": 7,
   "metadata": {
    "scrolled": false
   },
   "outputs": [],
   "source": [
    "dataframes_list = [data_rec.get_values(dt) for dt in data_list]"
   ]
  },
  {
   "cell_type": "code",
   "execution_count": 8,
   "metadata": {},
   "outputs": [],
   "source": [
    "values_objective=data_rec.get_indicator(objective)"
   ]
  },
  {
   "cell_type": "code",
   "execution_count": 9,
   "metadata": {},
   "outputs": [],
   "source": [
    "df_objective=data_rec.get_values(values_objective)"
   ]
  },
  {
   "cell_type": "code",
   "execution_count": 14,
   "metadata": {},
   "outputs": [
    {
     "data": {
      "text/html": [
       "<div>\n",
       "<style scoped>\n",
       "    .dataframe tbody tr th:only-of-type {\n",
       "        vertical-align: middle;\n",
       "    }\n",
       "\n",
       "    .dataframe tbody tr th {\n",
       "        vertical-align: top;\n",
       "    }\n",
       "\n",
       "    .dataframe thead th {\n",
       "        text-align: right;\n",
       "    }\n",
       "</style>\n",
       "<table border=\"1\" class=\"dataframe\">\n",
       "  <thead>\n",
       "    <tr style=\"text-align: right;\">\n",
       "      <th></th>\n",
       "      <th>Termino_de_facturacion_de_energia_activa_del_PVPC_eficiencia_2_periodos_(DHA)</th>\n",
       "      <th>datetime</th>\n",
       "      <th>datetime_utc</th>\n",
       "      <th>tz_time</th>\n",
       "      <th>geo_id</th>\n",
       "      <th>geo_name</th>\n",
       "    </tr>\n",
       "  </thead>\n",
       "  <tbody>\n",
       "    <tr>\n",
       "      <th>0</th>\n",
       "      <td>27.02</td>\n",
       "      <td>2014-04-01 02:00:00+02:00</td>\n",
       "      <td>2014-04-01 00:00:00+00:00</td>\n",
       "      <td>2014-04-01 00:00:00+00:00</td>\n",
       "      <td>3</td>\n",
       "      <td>España</td>\n",
       "    </tr>\n",
       "    <tr>\n",
       "      <th>1</th>\n",
       "      <td>25.72</td>\n",
       "      <td>2014-04-01 03:00:00+02:00</td>\n",
       "      <td>2014-04-01 01:00:00+00:00</td>\n",
       "      <td>2014-04-01 01:00:00+00:00</td>\n",
       "      <td>3</td>\n",
       "      <td>España</td>\n",
       "    </tr>\n",
       "    <tr>\n",
       "      <th>2</th>\n",
       "      <td>25.15</td>\n",
       "      <td>2014-04-01 04:00:00+02:00</td>\n",
       "      <td>2014-04-01 02:00:00+00:00</td>\n",
       "      <td>2014-04-01 02:00:00+00:00</td>\n",
       "      <td>3</td>\n",
       "      <td>España</td>\n",
       "    </tr>\n",
       "    <tr>\n",
       "      <th>3</th>\n",
       "      <td>25.41</td>\n",
       "      <td>2014-04-01 05:00:00+02:00</td>\n",
       "      <td>2014-04-01 03:00:00+00:00</td>\n",
       "      <td>2014-04-01 03:00:00+00:00</td>\n",
       "      <td>3</td>\n",
       "      <td>España</td>\n",
       "    </tr>\n",
       "    <tr>\n",
       "      <th>4</th>\n",
       "      <td>32.63</td>\n",
       "      <td>2014-04-01 06:00:00+02:00</td>\n",
       "      <td>2014-04-01 04:00:00+00:00</td>\n",
       "      <td>2014-04-01 04:00:00+00:00</td>\n",
       "      <td>3</td>\n",
       "      <td>España</td>\n",
       "    </tr>\n",
       "    <tr>\n",
       "      <th>...</th>\n",
       "      <td>...</td>\n",
       "      <td>...</td>\n",
       "      <td>...</td>\n",
       "      <td>...</td>\n",
       "      <td>...</td>\n",
       "      <td>...</td>\n",
       "    </tr>\n",
       "    <tr>\n",
       "      <th>53827</th>\n",
       "      <td>108.04</td>\n",
       "      <td>2020-05-21 21:00:00+02:00</td>\n",
       "      <td>2020-05-21 19:00:00+00:00</td>\n",
       "      <td>2020-05-21 19:00:00+00:00</td>\n",
       "      <td>3</td>\n",
       "      <td>España</td>\n",
       "    </tr>\n",
       "    <tr>\n",
       "      <th>53828</th>\n",
       "      <td>107.73</td>\n",
       "      <td>2020-05-21 22:00:00+02:00</td>\n",
       "      <td>2020-05-21 20:00:00+00:00</td>\n",
       "      <td>2020-05-21 20:00:00+00:00</td>\n",
       "      <td>3</td>\n",
       "      <td>España</td>\n",
       "    </tr>\n",
       "    <tr>\n",
       "      <th>53829</th>\n",
       "      <td>40.96</td>\n",
       "      <td>2020-05-21 23:00:00+02:00</td>\n",
       "      <td>2020-05-21 21:00:00+00:00</td>\n",
       "      <td>2020-05-21 21:00:00+00:00</td>\n",
       "      <td>3</td>\n",
       "      <td>España</td>\n",
       "    </tr>\n",
       "    <tr>\n",
       "      <th>53830</th>\n",
       "      <td>43.80</td>\n",
       "      <td>2020-05-22 00:00:00+02:00</td>\n",
       "      <td>2020-05-21 22:00:00+00:00</td>\n",
       "      <td>2020-05-21 22:00:00+00:00</td>\n",
       "      <td>3</td>\n",
       "      <td>España</td>\n",
       "    </tr>\n",
       "    <tr>\n",
       "      <th>53831</th>\n",
       "      <td>43.69</td>\n",
       "      <td>2020-05-22 01:00:00+02:00</td>\n",
       "      <td>2020-05-21 23:00:00+00:00</td>\n",
       "      <td>2020-05-21 23:00:00+00:00</td>\n",
       "      <td>3</td>\n",
       "      <td>España</td>\n",
       "    </tr>\n",
       "  </tbody>\n",
       "</table>\n",
       "<p>53832 rows × 6 columns</p>\n",
       "</div>"
      ],
      "text/plain": [
       "       Termino_de_facturacion_de_energia_activa_del_PVPC_eficiencia_2_periodos_(DHA)  \\\n",
       "0                                                  27.02                               \n",
       "1                                                  25.72                               \n",
       "2                                                  25.15                               \n",
       "3                                                  25.41                               \n",
       "4                                                  32.63                               \n",
       "...                                                  ...                               \n",
       "53827                                             108.04                               \n",
       "53828                                             107.73                               \n",
       "53829                                              40.96                               \n",
       "53830                                              43.80                               \n",
       "53831                                              43.69                               \n",
       "\n",
       "                        datetime              datetime_utc  \\\n",
       "0      2014-04-01 02:00:00+02:00 2014-04-01 00:00:00+00:00   \n",
       "1      2014-04-01 03:00:00+02:00 2014-04-01 01:00:00+00:00   \n",
       "2      2014-04-01 04:00:00+02:00 2014-04-01 02:00:00+00:00   \n",
       "3      2014-04-01 05:00:00+02:00 2014-04-01 03:00:00+00:00   \n",
       "4      2014-04-01 06:00:00+02:00 2014-04-01 04:00:00+00:00   \n",
       "...                          ...                       ...   \n",
       "53827  2020-05-21 21:00:00+02:00 2020-05-21 19:00:00+00:00   \n",
       "53828  2020-05-21 22:00:00+02:00 2020-05-21 20:00:00+00:00   \n",
       "53829  2020-05-21 23:00:00+02:00 2020-05-21 21:00:00+00:00   \n",
       "53830  2020-05-22 00:00:00+02:00 2020-05-21 22:00:00+00:00   \n",
       "53831  2020-05-22 01:00:00+02:00 2020-05-21 23:00:00+00:00   \n",
       "\n",
       "                        tz_time  geo_id geo_name  \n",
       "0     2014-04-01 00:00:00+00:00       3   España  \n",
       "1     2014-04-01 01:00:00+00:00       3   España  \n",
       "2     2014-04-01 02:00:00+00:00       3   España  \n",
       "3     2014-04-01 03:00:00+00:00       3   España  \n",
       "4     2014-04-01 04:00:00+00:00       3   España  \n",
       "...                         ...     ...      ...  \n",
       "53827 2020-05-21 19:00:00+00:00       3   España  \n",
       "53828 2020-05-21 20:00:00+00:00       3   España  \n",
       "53829 2020-05-21 21:00:00+00:00       3   España  \n",
       "53830 2020-05-21 22:00:00+00:00       3   España  \n",
       "53831 2020-05-21 23:00:00+00:00       3   España  \n",
       "\n",
       "[53832 rows x 6 columns]"
      ]
     },
     "execution_count": 14,
     "metadata": {},
     "output_type": "execute_result"
    }
   ],
   "source": [
    "df_objective"
   ]
  },
  {
   "cell_type": "markdown",
   "metadata": {},
   "source": [
    "We need to get the names of the indicators so we can identify them in the dataframe:"
   ]
  },
  {
   "cell_type": "code",
   "execution_count": 10,
   "metadata": {},
   "outputs": [],
   "source": [
    "descriptions=data_rec.get_list_indicators()"
   ]
  },
  {
   "cell_type": "code",
   "execution_count": 11,
   "metadata": {},
   "outputs": [],
   "source": [
    "names={}\n",
    "for i in descriptions:\n",
    "    if i['id'] in (all):\n",
    "        names[i['id']]=i['name'].replace(' ','_')\\\n",
    "        .replace('á','a')\\\n",
    "        .replace('é','e')\\\n",
    "        .replace('í','i')\\\n",
    "        .replace('ó','o')\\\n",
    "        .replace('ú','u')\n",
    "    else:\n",
    "        continue"
   ]
  },
  {
   "cell_type": "markdown",
   "metadata": {},
   "source": [
    "We get the index of each name in our list of dataframes:"
   ]
  },
  {
   "cell_type": "code",
   "execution_count": 12,
   "metadata": {},
   "outputs": [],
   "source": [
    "index_indicators=[]\n",
    "for i in names.keys():\n",
    "    if i!=1014:\n",
    "        index_indicators.append(indicators_list.index(i))\n",
    "    else:\n",
    "        continue"
   ]
  },
  {
   "cell_type": "code",
   "execution_count": 13,
   "metadata": {
    "scrolled": true
   },
   "outputs": [],
   "source": [
    "for i,ind in enumerate(index_indicators):\n",
    "    dataframes_list[ind].rename(columns={'value':list(names.values())[i]},inplace=True)\n",
    "\n",
    "df_objective.rename(columns={'value':names[1014]},inplace=True)"
   ]
  },
  {
   "cell_type": "markdown",
   "metadata": {},
   "source": [
    "Finally, we can merge all the dataframes now that we can identify the columns:"
   ]
  },
  {
   "cell_type": "code",
   "execution_count": 68,
   "metadata": {},
   "outputs": [],
   "source": [
    "limit = int(len(dataframes_list)+1)\n",
    "\n",
    "df_esios=df_objective.copy()\n",
    "for i in dataframes_list[:limit]:\n",
    "    df_esios=df_esios.merge(i.iloc[:,0:4],how='left',on=['datetime_utc','datetime','tz_time']).drop_duplicates()"
   ]
  },
  {
   "cell_type": "markdown",
   "metadata": {},
   "source": [
    "We may create some other columns that may be useful for mergin other dataframes:"
   ]
  },
  {
   "cell_type": "code",
   "execution_count": 132,
   "metadata": {},
   "outputs": [],
   "source": [
    "df_esios['day']=df_esios['datetime_utc'].dt.day\n",
    "df_esios['month']=df_esios['datetime_utc'].dt.month\n",
    "df_esios['year']=df_esios['datetime_utc'].dt.year\n",
    "df_esios['hour']=df_esios['datetime_utc'].dt.hour\n",
    "df_esios['quarter']=df_esios['datetime_utc'].dt.quarter"
   ]
  },
  {
   "cell_type": "markdown",
   "metadata": {},
   "source": [
    "### 2. WorldBank info"
   ]
  },
  {
   "cell_type": "markdown",
   "metadata": {},
   "source": [
    "Some info of the WorldBank API has been requested related to the industry and electricity sector. "
   ]
  },
  {
   "cell_type": "code",
   "execution_count": 133,
   "metadata": {},
   "outputs": [],
   "source": [
    "worldbank_indicators=['FP.CPI.TOTL','IC.ELC.TIME','FP.CPI.TOTL.ZG','SL.IND.EMPL.ZS']"
   ]
  },
  {
   "cell_type": "code",
   "execution_count": 134,
   "metadata": {},
   "outputs": [],
   "source": [
    "worldbank_list = [data_rec.worldbank_info(wb) for wb in worldbank_indicators]"
   ]
  },
  {
   "cell_type": "markdown",
   "metadata": {},
   "source": [
    "We can write a dictionary with the name of each indicator:"
   ]
  },
  {
   "cell_type": "code",
   "execution_count": 135,
   "metadata": {},
   "outputs": [],
   "source": [
    "dict_worldbank={'FP.CPI.TOTL':'Consumer_price_index',\n",
    "               'IC.ELC.TIME':'Time_required_to_get_electricity_(days)',\n",
    "               'FP.CPI.TOTL.ZG':'Inflation,consumer_prices_(annual_%)',\n",
    "               'SL.IND.EMPL.ZS':'Employment_in_industry_(%_of_total_employment)'}"
   ]
  },
  {
   "cell_type": "markdown",
   "metadata": {},
   "source": [
    "After we get the dataframes, we merge them:"
   ]
  },
  {
   "cell_type": "code",
   "execution_count": 136,
   "metadata": {},
   "outputs": [],
   "source": [
    "limit = int(len(worldbank_list)+1)\n",
    "\n",
    "df_esios2=df_esios.copy()\n",
    "for i,datafr in enumerate(worldbank_list[:limit]):\n",
    "    df_esios2=df_esios2.merge(datafr.iloc[:,0:4],how='left',left_on='year',right_on='date').drop_duplicates().drop('date',axis=1)\n",
    "    df_esios2.rename(columns={'value':dict_worldbank[worldbank_indicators[i]]},inplace=True)"
   ]
  },
  {
   "cell_type": "markdown",
   "metadata": {},
   "source": [
    "### 3. National holidays"
   ]
  },
  {
   "cell_type": "markdown",
   "metadata": {},
   "source": [
    "It is important to know the national holidays in Spain so we are creating a table with this days to include this info in our final dataframe"
   ]
  },
  {
   "cell_type": "code",
   "execution_count": 137,
   "metadata": {},
   "outputs": [],
   "source": [
    "holidays = data_rec.national_holidays()"
   ]
  },
  {
   "cell_type": "code",
   "execution_count": 138,
   "metadata": {},
   "outputs": [],
   "source": [
    "df_esios3=df_esios2.merge(holidays,how='left',on=['day','month'])\\\n",
    "                    .rename(columns={'value':'holidays'})\n",
    "\n",
    "df_esios3['holidays'].fillna(0,inplace=True)"
   ]
  },
  {
   "cell_type": "markdown",
   "metadata": {},
   "source": [
    "### 4. GDP"
   ]
  },
  {
   "cell_type": "markdown",
   "metadata": {},
   "source": [
    "We are adding the Gross Domestic Product in Spain, so we can include some more economic-social data."
   ]
  },
  {
   "cell_type": "code",
   "execution_count": 149,
   "metadata": {},
   "outputs": [],
   "source": [
    "gdp = data_rec.pib_data()"
   ]
  },
  {
   "cell_type": "code",
   "execution_count": 153,
   "metadata": {},
   "outputs": [],
   "source": [
    "# Get the columns to merge\n",
    "gdp['quarter'],gdp['str'],gdp['year']=zip(*gdp['Fecha'].str.split())\n",
    "# Replace the values \n",
    "gdp['quarter'].replace({'I':'1','II':'2','III':'3','IV':'4'},inplace=True)\n",
    "# Change the datatype to integer\n",
    "gdp[['quarter','year']]=gdp[['quarter','year']].astype('int')\n",
    "# We drop columns that we don't need\n",
    "gdp.drop('str',inplace=True,axis=1)"
   ]
  },
  {
   "cell_type": "code",
   "execution_count": 154,
   "metadata": {},
   "outputs": [],
   "source": [
    "df_esios4=df_esios3.merge(gdp,how='left',on=['quarter','year'])\\\n",
    "                    .drop(['Fecha','PIB Trimestral.1'],axis=1)"
   ]
  },
  {
   "cell_type": "markdown",
   "metadata": {},
   "source": [
    "### 5. Finance info"
   ]
  },
  {
   "cell_type": "markdown",
   "metadata": {},
   "source": [
    "If we want to show, somehow, the effect of a crisis, we may add the stock market value of IBEX35 to show the evolution of the country. Moreover, we will add the stock market value for the REE as well. "
   ]
  },
  {
   "cell_type": "code",
   "execution_count": 160,
   "metadata": {},
   "outputs": [],
   "source": [
    "stock_market_indicators=['REE.MC','%5EIBEX']"
   ]
  },
  {
   "cell_type": "code",
   "execution_count": 161,
   "metadata": {
    "scrolled": false
   },
   "outputs": [
    {
     "ename": "RemoteDataError",
     "evalue": "Unable to read URL: https://finance.yahoo.com/quote/REE.MC/history?period1=1396317600&period2=1590199199&interval=1d&frequency=1d&filter=history\nResponse Text:\nb'<!DOCTYPE html>\\n<html lang=\"en-us\">\\n  <head>\\n    <meta http-equiv=\"content-type\" content=\"text/html; charset=UTF-8\">\\n    <meta charset=\"utf-8\">\\n    <title>Yahoo</title>\\n    <meta name=\"viewport\" content=\"width=device-width,initial-scale=1,minimal-ui\">\\n    <meta http-equiv=\"X-UA-Compatible\" content=\"IE=edge,chrome=1\">\\n    <style>\\n      html {\\n          height: 100%;\\n      }\\n      body {\\n          background: #fafafc url(https://s.yimg.com/nn/img/sad-panda-201402200631.png) 50% 50%;\\n          background-size: cover;\\n          height: 100%;\\n          text-align: center;\\n          font: 300 18px \"helvetica neue\", helvetica, verdana, tahoma, arial, sans-serif;\\n          margin: 0;\\n      }\\n      table {\\n          height: 100%;\\n          width: 100%;\\n          table-layout: fixed;\\n          border-collapse: collapse;\\n          border-spacing: 0;\\n          border: none;\\n      }\\n      h1 {\\n          font-size: 42px;\\n          font-weight: 400;\\n          color: #400090;\\n      }\\n      p {\\n          color: #1A1A1A;\\n      }\\n      #message-1 {\\n          font-weight: bold;\\n          margin: 0;\\n      }\\n      #message-2 {\\n          display: inline-block;\\n          *display: inline;\\n          zoom: 1;\\n          max-width: 17em;\\n          _width: 17em;\\n      }\\n      </style>\\n      <script>\\n      \\n      </script>\\n  </head>\\n  <body>\\n  <!-- status code : 400 -->\\n  <!-- Host Header Required -->\\n  <!-- host machine: e3.ycpi.esa.yahoo.com -->\\n  <!-- timestamp: 1590162864.958 -->\\n  <!-- url: https:///quote/REE.MC/history?period1=1396317600&period2=1590199199&interval=1d&frequency=1d&filter=history-->\\n  <script type=\"text/javascript\">\\n    function buildUrl(url, parameters){\\n      var qs = [];\\n      for(var key in parameters) {\\n        var value = parameters[key];\\n        qs.push(encodeURIComponent(key) + \"=\" + encodeURIComponent(value));\\n      }\\n      url = url + \"?\" + qs.join(\\'&\\');\\n      return url;\\n    }\\n\\n    function generateBRBMarkup(site) {\\n      params.source = \\'brb\\';\\n      generateBeaconMarkup(params);\\n      var englishHeader = \\'Will be right back...\\';\\n      var englishMessage1 = \\'Thank you for your patience.\\';\\n      var englishMessage2 = \\'Our engineers are working quickly to resolve the issue.\\';\\n      var defaultLogoStyle = \\'\\';\\n      var siteDataMap = {\\n        \\'default\\': {\\n          logo: \\'https://s.yimg.com/rz/p/yahoo_frontpage_en-US_s_f_p_205x58_frontpage.png\\',\\n          logoAlt: \\'Yahoo Logo\\',\\n          logoStyle: defaultLogoStyle,\\n          header: englishHeader,\\n          message1: englishMessage1,\\n          message2: englishMessage2\\n        }\\n      };\\n\\n      var siteDetails = siteDataMap[\\'default\\'];\\n\\n      document.write(\\'<table><tbody><tr><td>\\');\\n      document.write(\\'<div id=\"content\">\\');\\n      document.write(\\'<img src=\"\\' + siteDetails[\\'logo\\'] + \\'\" alt=\"\\' + siteDetails[\\'logoAlt\\'] + \\'\" style=\"\\' + siteDetails[\\'logoStyle\\'] + \\'\">\\');\\n      document.write(\\'<h1 style=\"margin-top:20px;\">\\' + siteDetails[\\'header\\'] + \\'</h1>\\');\\n      document.write(\\'<p id=\"message-1\">\\' + siteDetails[\\'message1\\'] + \\'</p>\\');\\n      document.write(\\'<p id=\"message-2\">\\' + siteDetails[\\'message2\\'] + \\'</p>\\');\\n      document.write(\\'</div>\\');\\n      document.write(\\'</td></tr></tbody></table>\\');\\n    }\\n\\n    function generateBeaconMarkup(params) {\\n        document.write(\\'<img src=\"\\' + buildUrl(\\'//geo.yahoo.com/b\\', params) + \\'\" style=\"display:none;\" width=\"0px\" height=\"0px\"/>\\');\\n        var beacon = new Image();\\n        beacon.src = buildUrl(\\'//bcn.fp.yahoo.com/p\\', params);\\n    }\\n\\n    var hostname = window.location.hostname;\\n    var device = \\'featurephone\\';\\n    var ynet = (\\'-\\' === \\'1\\');\\n    var time = new Date().getTime();\\n    var params = {\\n        s: \\'1197757129\\',\\n        t: time,\\n        err_url: document.URL,\\n        err: \\'400\\',\\n        test: \\'-\\',\\n        ats_host: \\'e3.ycpi.esa.yahoo.com\\',\\n        rid: \\'-\\',\\n        message: \\'Host Header Required\\'\\n    };\\n\\n    if(ynet) {\\n        document.write(\\'<div style=\"height: 5px; background-color: red;\"></div>\\');\\n    }\\n    generateBRBMarkup(hostname, params);\\n\\n  </script>\\n  <noscript>\\n  <table>\\n    <tbody>\\n      <tr>\\n        <td>\\n          <div id=\"englishContent\">\\n            <h1 style=\"margin-top:20px;\">Will be right back...</h1>\\n            <p id=\"message-1\">Thank you for your patience.</p>\\n            <p id=\"message-2\">Our engineers are working quickly to resolve the issue.</p>\\n          </div>\\n        </td>\\n      </tr>\\n    </tbody>\\n  </table>\\n  </noscript>\\n  </body>\\n</html>\\n'",
     "output_type": "error",
     "traceback": [
      "\u001b[0;31m---------------------------------------------------------------------------\u001b[0m",
      "\u001b[0;31mRemoteDataError\u001b[0m                           Traceback (most recent call last)",
      "\u001b[0;32m<ipython-input-161-46297545e498>\u001b[0m in \u001b[0;36m<module>\u001b[0;34m\u001b[0m\n\u001b[0;32m----> 1\u001b[0;31m \u001b[0mstock_market_list\u001b[0m \u001b[0;34m=\u001b[0m \u001b[0;34m[\u001b[0m\u001b[0mdata_rec\u001b[0m\u001b[0;34m.\u001b[0m\u001b[0mfinance_data\u001b[0m\u001b[0;34m(\u001b[0m\u001b[0mst\u001b[0m\u001b[0;34m)\u001b[0m \u001b[0;32mfor\u001b[0m \u001b[0mst\u001b[0m \u001b[0;32min\u001b[0m \u001b[0mstock_market_indicators\u001b[0m\u001b[0;34m]\u001b[0m\u001b[0;34m\u001b[0m\u001b[0;34m\u001b[0m\u001b[0m\n\u001b[0m",
      "\u001b[0;32m<ipython-input-161-46297545e498>\u001b[0m in \u001b[0;36m<listcomp>\u001b[0;34m(.0)\u001b[0m\n\u001b[0;32m----> 1\u001b[0;31m \u001b[0mstock_market_list\u001b[0m \u001b[0;34m=\u001b[0m \u001b[0;34m[\u001b[0m\u001b[0mdata_rec\u001b[0m\u001b[0;34m.\u001b[0m\u001b[0mfinance_data\u001b[0m\u001b[0;34m(\u001b[0m\u001b[0mst\u001b[0m\u001b[0;34m)\u001b[0m \u001b[0;32mfor\u001b[0m \u001b[0mst\u001b[0m \u001b[0;32min\u001b[0m \u001b[0mstock_market_indicators\u001b[0m\u001b[0;34m]\u001b[0m\u001b[0;34m\u001b[0m\u001b[0;34m\u001b[0m\u001b[0m\n\u001b[0m",
      "\u001b[0;32m<ipython-input-98-891ac3cd8276>\u001b[0m in \u001b[0;36mfinance_data\u001b[0;34m(self, indicator)\u001b[0m\n\u001b[1;32m    117\u001b[0m         \u001b[0mWith\u001b[0m \u001b[0mthis\u001b[0m \u001b[0mfunction\u001b[0m \u001b[0mwe\u001b[0m \u001b[0mwill\u001b[0m \u001b[0mget\u001b[0m \u001b[0mthe\u001b[0m \u001b[0mstock\u001b[0m \u001b[0mmarket\u001b[0m \u001b[0mhistorical\u001b[0m \u001b[0mvalues\u001b[0m \u001b[0;32mfrom\u001b[0m \u001b[0mYahoo\u001b[0m\u001b[0;31m!\u001b[0m \u001b[0mFinance\u001b[0m \u001b[0;32mfor\u001b[0m \u001b[0mthe\u001b[0m \u001b[0mindicator\u001b[0m \u001b[0mwe\u001b[0m \u001b[0mdecide\u001b[0m\u001b[0;34m.\u001b[0m\u001b[0;34m\u001b[0m\u001b[0;34m\u001b[0m\u001b[0m\n\u001b[1;32m    118\u001b[0m         \"\"\"\n\u001b[0;32m--> 119\u001b[0;31m         \u001b[0mree\u001b[0m \u001b[0;34m=\u001b[0m \u001b[0mpdr\u001b[0m\u001b[0;34m.\u001b[0m\u001b[0mdata\u001b[0m\u001b[0;34m.\u001b[0m\u001b[0mDataReader\u001b[0m\u001b[0;34m(\u001b[0m\u001b[0mindicator\u001b[0m\u001b[0;34m,\u001b[0m\u001b[0;34m\"yahoo\"\u001b[0m\u001b[0;34m,\u001b[0m \u001b[0mstart\u001b[0m\u001b[0;34m=\u001b[0m\u001b[0mdatetime\u001b[0m\u001b[0;34m(\u001b[0m\u001b[0;36m2014\u001b[0m\u001b[0;34m,\u001b[0m \u001b[0;36m4\u001b[0m\u001b[0;34m,\u001b[0m \u001b[0;36m1\u001b[0m\u001b[0;34m)\u001b[0m\u001b[0;34m,\u001b[0m \u001b[0mend\u001b[0m\u001b[0;34m=\u001b[0m\u001b[0mdatetime\u001b[0m\u001b[0;34m.\u001b[0m\u001b[0mnow\u001b[0m\u001b[0;34m(\u001b[0m\u001b[0;34m)\u001b[0m\u001b[0;34m)\u001b[0m\u001b[0;34m\u001b[0m\u001b[0;34m\u001b[0m\u001b[0m\n\u001b[0m\u001b[1;32m    120\u001b[0m         \u001b[0;32mreturn\u001b[0m \u001b[0mree\u001b[0m\u001b[0;34m[\u001b[0m\u001b[0;34m'Adj Close'\u001b[0m\u001b[0;34m]\u001b[0m\u001b[0;34m\u001b[0m\u001b[0;34m\u001b[0m\u001b[0m\n\u001b[1;32m    121\u001b[0m \u001b[0;34m\u001b[0m\u001b[0m\n",
      "\u001b[0;32m~/anaconda3/lib/python3.7/site-packages/pandas/util/_decorators.py\u001b[0m in \u001b[0;36mwrapper\u001b[0;34m(*args, **kwargs)\u001b[0m\n\u001b[1;32m    206\u001b[0m                 \u001b[0;32melse\u001b[0m\u001b[0;34m:\u001b[0m\u001b[0;34m\u001b[0m\u001b[0;34m\u001b[0m\u001b[0m\n\u001b[1;32m    207\u001b[0m                     \u001b[0mkwargs\u001b[0m\u001b[0;34m[\u001b[0m\u001b[0mnew_arg_name\u001b[0m\u001b[0;34m]\u001b[0m \u001b[0;34m=\u001b[0m \u001b[0mnew_arg_value\u001b[0m\u001b[0;34m\u001b[0m\u001b[0;34m\u001b[0m\u001b[0m\n\u001b[0;32m--> 208\u001b[0;31m             \u001b[0;32mreturn\u001b[0m \u001b[0mfunc\u001b[0m\u001b[0;34m(\u001b[0m\u001b[0;34m*\u001b[0m\u001b[0margs\u001b[0m\u001b[0;34m,\u001b[0m \u001b[0;34m**\u001b[0m\u001b[0mkwargs\u001b[0m\u001b[0;34m)\u001b[0m\u001b[0;34m\u001b[0m\u001b[0;34m\u001b[0m\u001b[0m\n\u001b[0m\u001b[1;32m    209\u001b[0m \u001b[0;34m\u001b[0m\u001b[0m\n\u001b[1;32m    210\u001b[0m         \u001b[0;32mreturn\u001b[0m \u001b[0mwrapper\u001b[0m\u001b[0;34m\u001b[0m\u001b[0;34m\u001b[0m\u001b[0m\n",
      "\u001b[0;32m~/anaconda3/lib/python3.7/site-packages/pandas_datareader/data.py\u001b[0m in \u001b[0;36mDataReader\u001b[0;34m(name, data_source, start, end, retry_count, pause, session, api_key)\u001b[0m\n\u001b[1;32m    385\u001b[0m             \u001b[0mretry_count\u001b[0m\u001b[0;34m=\u001b[0m\u001b[0mretry_count\u001b[0m\u001b[0;34m,\u001b[0m\u001b[0;34m\u001b[0m\u001b[0;34m\u001b[0m\u001b[0m\n\u001b[1;32m    386\u001b[0m             \u001b[0mpause\u001b[0m\u001b[0;34m=\u001b[0m\u001b[0mpause\u001b[0m\u001b[0;34m,\u001b[0m\u001b[0;34m\u001b[0m\u001b[0;34m\u001b[0m\u001b[0m\n\u001b[0;32m--> 387\u001b[0;31m             \u001b[0msession\u001b[0m\u001b[0;34m=\u001b[0m\u001b[0msession\u001b[0m\u001b[0;34m,\u001b[0m\u001b[0;34m\u001b[0m\u001b[0;34m\u001b[0m\u001b[0m\n\u001b[0m\u001b[1;32m    388\u001b[0m         ).read()\n\u001b[1;32m    389\u001b[0m \u001b[0;34m\u001b[0m\u001b[0m\n",
      "\u001b[0;32m~/anaconda3/lib/python3.7/site-packages/pandas_datareader/base.py\u001b[0m in \u001b[0;36mread\u001b[0;34m(self)\u001b[0m\n\u001b[1;32m    249\u001b[0m         \u001b[0;31m# If a single symbol, (e.g., 'GOOG')\u001b[0m\u001b[0;34m\u001b[0m\u001b[0;34m\u001b[0m\u001b[0;34m\u001b[0m\u001b[0m\n\u001b[1;32m    250\u001b[0m         \u001b[0;32mif\u001b[0m \u001b[0misinstance\u001b[0m\u001b[0;34m(\u001b[0m\u001b[0mself\u001b[0m\u001b[0;34m.\u001b[0m\u001b[0msymbols\u001b[0m\u001b[0;34m,\u001b[0m \u001b[0;34m(\u001b[0m\u001b[0mstring_types\u001b[0m\u001b[0;34m,\u001b[0m \u001b[0mint\u001b[0m\u001b[0;34m)\u001b[0m\u001b[0;34m)\u001b[0m\u001b[0;34m:\u001b[0m\u001b[0;34m\u001b[0m\u001b[0;34m\u001b[0m\u001b[0m\n\u001b[0;32m--> 251\u001b[0;31m             \u001b[0mdf\u001b[0m \u001b[0;34m=\u001b[0m \u001b[0mself\u001b[0m\u001b[0;34m.\u001b[0m\u001b[0m_read_one_data\u001b[0m\u001b[0;34m(\u001b[0m\u001b[0mself\u001b[0m\u001b[0;34m.\u001b[0m\u001b[0murl\u001b[0m\u001b[0;34m,\u001b[0m \u001b[0mparams\u001b[0m\u001b[0;34m=\u001b[0m\u001b[0mself\u001b[0m\u001b[0;34m.\u001b[0m\u001b[0m_get_params\u001b[0m\u001b[0;34m(\u001b[0m\u001b[0mself\u001b[0m\u001b[0;34m.\u001b[0m\u001b[0msymbols\u001b[0m\u001b[0;34m)\u001b[0m\u001b[0;34m)\u001b[0m\u001b[0;34m\u001b[0m\u001b[0;34m\u001b[0m\u001b[0m\n\u001b[0m\u001b[1;32m    252\u001b[0m         \u001b[0;31m# Or multiple symbols, (e.g., ['GOOG', 'AAPL', 'MSFT'])\u001b[0m\u001b[0;34m\u001b[0m\u001b[0;34m\u001b[0m\u001b[0;34m\u001b[0m\u001b[0m\n\u001b[1;32m    253\u001b[0m         \u001b[0;32melif\u001b[0m \u001b[0misinstance\u001b[0m\u001b[0;34m(\u001b[0m\u001b[0mself\u001b[0m\u001b[0;34m.\u001b[0m\u001b[0msymbols\u001b[0m\u001b[0;34m,\u001b[0m \u001b[0mDataFrame\u001b[0m\u001b[0;34m)\u001b[0m\u001b[0;34m:\u001b[0m\u001b[0;34m\u001b[0m\u001b[0;34m\u001b[0m\u001b[0m\n",
      "\u001b[0;32m~/anaconda3/lib/python3.7/site-packages/pandas_datareader/yahoo/daily.py\u001b[0m in \u001b[0;36m_read_one_data\u001b[0;34m(self, url, params)\u001b[0m\n\u001b[1;32m    151\u001b[0m         \u001b[0murl\u001b[0m \u001b[0;34m=\u001b[0m \u001b[0murl\u001b[0m\u001b[0;34m.\u001b[0m\u001b[0mformat\u001b[0m\u001b[0;34m(\u001b[0m\u001b[0msymbol\u001b[0m\u001b[0;34m)\u001b[0m\u001b[0;34m\u001b[0m\u001b[0;34m\u001b[0m\u001b[0m\n\u001b[1;32m    152\u001b[0m \u001b[0;34m\u001b[0m\u001b[0m\n\u001b[0;32m--> 153\u001b[0;31m         \u001b[0mresp\u001b[0m \u001b[0;34m=\u001b[0m \u001b[0mself\u001b[0m\u001b[0;34m.\u001b[0m\u001b[0m_get_response\u001b[0m\u001b[0;34m(\u001b[0m\u001b[0murl\u001b[0m\u001b[0;34m,\u001b[0m \u001b[0mparams\u001b[0m\u001b[0;34m=\u001b[0m\u001b[0mparams\u001b[0m\u001b[0;34m)\u001b[0m\u001b[0;34m\u001b[0m\u001b[0;34m\u001b[0m\u001b[0m\n\u001b[0m\u001b[1;32m    154\u001b[0m         \u001b[0mptrn\u001b[0m \u001b[0;34m=\u001b[0m \u001b[0;34mr\"root\\.App\\.main = (.*?);\\n}\\(this\\)\\);\"\u001b[0m\u001b[0;34m\u001b[0m\u001b[0;34m\u001b[0m\u001b[0m\n\u001b[1;32m    155\u001b[0m         \u001b[0;32mtry\u001b[0m\u001b[0;34m:\u001b[0m\u001b[0;34m\u001b[0m\u001b[0;34m\u001b[0m\u001b[0m\n",
      "\u001b[0;32m~/anaconda3/lib/python3.7/site-packages/pandas_datareader/base.py\u001b[0m in \u001b[0;36m_get_response\u001b[0;34m(self, url, params, headers)\u001b[0m\n\u001b[1;32m    177\u001b[0m             \u001b[0mmsg\u001b[0m \u001b[0;34m+=\u001b[0m \u001b[0;34m\"\\nResponse Text:\\n{0}\"\u001b[0m\u001b[0;34m.\u001b[0m\u001b[0mformat\u001b[0m\u001b[0;34m(\u001b[0m\u001b[0mlast_response_text\u001b[0m\u001b[0;34m)\u001b[0m\u001b[0;34m\u001b[0m\u001b[0;34m\u001b[0m\u001b[0m\n\u001b[1;32m    178\u001b[0m \u001b[0;34m\u001b[0m\u001b[0m\n\u001b[0;32m--> 179\u001b[0;31m         \u001b[0;32mraise\u001b[0m \u001b[0mRemoteDataError\u001b[0m\u001b[0;34m(\u001b[0m\u001b[0mmsg\u001b[0m\u001b[0;34m)\u001b[0m\u001b[0;34m\u001b[0m\u001b[0;34m\u001b[0m\u001b[0m\n\u001b[0m\u001b[1;32m    180\u001b[0m \u001b[0;34m\u001b[0m\u001b[0m\n\u001b[1;32m    181\u001b[0m     \u001b[0;32mdef\u001b[0m \u001b[0m_get_crumb\u001b[0m\u001b[0;34m(\u001b[0m\u001b[0mself\u001b[0m\u001b[0;34m,\u001b[0m \u001b[0;34m*\u001b[0m\u001b[0margs\u001b[0m\u001b[0;34m)\u001b[0m\u001b[0;34m:\u001b[0m\u001b[0;34m\u001b[0m\u001b[0;34m\u001b[0m\u001b[0m\n",
      "\u001b[0;31mRemoteDataError\u001b[0m: Unable to read URL: https://finance.yahoo.com/quote/REE.MC/history?period1=1396317600&period2=1590199199&interval=1d&frequency=1d&filter=history\nResponse Text:\nb'<!DOCTYPE html>\\n<html lang=\"en-us\">\\n  <head>\\n    <meta http-equiv=\"content-type\" content=\"text/html; charset=UTF-8\">\\n    <meta charset=\"utf-8\">\\n    <title>Yahoo</title>\\n    <meta name=\"viewport\" content=\"width=device-width,initial-scale=1,minimal-ui\">\\n    <meta http-equiv=\"X-UA-Compatible\" content=\"IE=edge,chrome=1\">\\n    <style>\\n      html {\\n          height: 100%;\\n      }\\n      body {\\n          background: #fafafc url(https://s.yimg.com/nn/img/sad-panda-201402200631.png) 50% 50%;\\n          background-size: cover;\\n          height: 100%;\\n          text-align: center;\\n          font: 300 18px \"helvetica neue\", helvetica, verdana, tahoma, arial, sans-serif;\\n          margin: 0;\\n      }\\n      table {\\n          height: 100%;\\n          width: 100%;\\n          table-layout: fixed;\\n          border-collapse: collapse;\\n          border-spacing: 0;\\n          border: none;\\n      }\\n      h1 {\\n          font-size: 42px;\\n          font-weight: 400;\\n          color: #400090;\\n      }\\n      p {\\n          color: #1A1A1A;\\n      }\\n      #message-1 {\\n          font-weight: bold;\\n          margin: 0;\\n      }\\n      #message-2 {\\n          display: inline-block;\\n          *display: inline;\\n          zoom: 1;\\n          max-width: 17em;\\n          _width: 17em;\\n      }\\n      </style>\\n      <script>\\n      \\n      </script>\\n  </head>\\n  <body>\\n  <!-- status code : 400 -->\\n  <!-- Host Header Required -->\\n  <!-- host machine: e3.ycpi.esa.yahoo.com -->\\n  <!-- timestamp: 1590162864.958 -->\\n  <!-- url: https:///quote/REE.MC/history?period1=1396317600&period2=1590199199&interval=1d&frequency=1d&filter=history-->\\n  <script type=\"text/javascript\">\\n    function buildUrl(url, parameters){\\n      var qs = [];\\n      for(var key in parameters) {\\n        var value = parameters[key];\\n        qs.push(encodeURIComponent(key) + \"=\" + encodeURIComponent(value));\\n      }\\n      url = url + \"?\" + qs.join(\\'&\\');\\n      return url;\\n    }\\n\\n    function generateBRBMarkup(site) {\\n      params.source = \\'brb\\';\\n      generateBeaconMarkup(params);\\n      var englishHeader = \\'Will be right back...\\';\\n      var englishMessage1 = \\'Thank you for your patience.\\';\\n      var englishMessage2 = \\'Our engineers are working quickly to resolve the issue.\\';\\n      var defaultLogoStyle = \\'\\';\\n      var siteDataMap = {\\n        \\'default\\': {\\n          logo: \\'https://s.yimg.com/rz/p/yahoo_frontpage_en-US_s_f_p_205x58_frontpage.png\\',\\n          logoAlt: \\'Yahoo Logo\\',\\n          logoStyle: defaultLogoStyle,\\n          header: englishHeader,\\n          message1: englishMessage1,\\n          message2: englishMessage2\\n        }\\n      };\\n\\n      var siteDetails = siteDataMap[\\'default\\'];\\n\\n      document.write(\\'<table><tbody><tr><td>\\');\\n      document.write(\\'<div id=\"content\">\\');\\n      document.write(\\'<img src=\"\\' + siteDetails[\\'logo\\'] + \\'\" alt=\"\\' + siteDetails[\\'logoAlt\\'] + \\'\" style=\"\\' + siteDetails[\\'logoStyle\\'] + \\'\">\\');\\n      document.write(\\'<h1 style=\"margin-top:20px;\">\\' + siteDetails[\\'header\\'] + \\'</h1>\\');\\n      document.write(\\'<p id=\"message-1\">\\' + siteDetails[\\'message1\\'] + \\'</p>\\');\\n      document.write(\\'<p id=\"message-2\">\\' + siteDetails[\\'message2\\'] + \\'</p>\\');\\n      document.write(\\'</div>\\');\\n      document.write(\\'</td></tr></tbody></table>\\');\\n    }\\n\\n    function generateBeaconMarkup(params) {\\n        document.write(\\'<img src=\"\\' + buildUrl(\\'//geo.yahoo.com/b\\', params) + \\'\" style=\"display:none;\" width=\"0px\" height=\"0px\"/>\\');\\n        var beacon = new Image();\\n        beacon.src = buildUrl(\\'//bcn.fp.yahoo.com/p\\', params);\\n    }\\n\\n    var hostname = window.location.hostname;\\n    var device = \\'featurephone\\';\\n    var ynet = (\\'-\\' === \\'1\\');\\n    var time = new Date().getTime();\\n    var params = {\\n        s: \\'1197757129\\',\\n        t: time,\\n        err_url: document.URL,\\n        err: \\'400\\',\\n        test: \\'-\\',\\n        ats_host: \\'e3.ycpi.esa.yahoo.com\\',\\n        rid: \\'-\\',\\n        message: \\'Host Header Required\\'\\n    };\\n\\n    if(ynet) {\\n        document.write(\\'<div style=\"height: 5px; background-color: red;\"></div>\\');\\n    }\\n    generateBRBMarkup(hostname, params);\\n\\n  </script>\\n  <noscript>\\n  <table>\\n    <tbody>\\n      <tr>\\n        <td>\\n          <div id=\"englishContent\">\\n            <h1 style=\"margin-top:20px;\">Will be right back...</h1>\\n            <p id=\"message-1\">Thank you for your patience.</p>\\n            <p id=\"message-2\">Our engineers are working quickly to resolve the issue.</p>\\n          </div>\\n        </td>\\n      </tr>\\n    </tbody>\\n  </table>\\n  </noscript>\\n  </body>\\n</html>\\n'"
     ]
    }
   ],
   "source": [
    "stock_market_list = [data_rec.finance_data(st) for st in stock_market_indicators]"
   ]
  },
  {
   "cell_type": "code",
   "execution_count": null,
   "metadata": {},
   "outputs": [],
   "source": []
  }
 ],
 "metadata": {
  "kernelspec": {
   "display_name": "Python 3",
   "language": "python",
   "name": "python3"
  },
  "language_info": {
   "codemirror_mode": {
    "name": "ipython",
    "version": 3
   },
   "file_extension": ".py",
   "mimetype": "text/x-python",
   "name": "python",
   "nbconvert_exporter": "python",
   "pygments_lexer": "ipython3",
   "version": "3.7.4"
  }
 },
 "nbformat": 4,
 "nbformat_minor": 2
}
