{
 "cells": [
  {
   "cell_type": "code",
   "execution_count": null,
   "metadata": {},
   "outputs": [],
   "source": [
    "#%run ../Getting_data/Getting_Data.ipynb"
   ]
  },
  {
   "cell_type": "code",
   "execution_count": null,
   "metadata": {},
   "outputs": [],
   "source": [
    "import urllib.request\n",
    "import requests\n",
    "import pycurl\n",
    "import json\n",
    "import datetime as dt\n",
    "from datetime import date, datetime, timedelta\n",
    "import pandas as pd\n",
    "import numpy as np\n",
    "import seaborn as sns\n",
    "import matplotlib.pyplot as plt\n",
    "import pandas_datareader as pdrIBEX\n",
    "plt.rcParams['figure.figsize'] = [50, 15]"
   ]
  },
  {
   "cell_type": "code",
   "execution_count": 2,
   "metadata": {},
   "outputs": [],
   "source": [
    "def plot_year_x(self,year,df):\n",
    "    \"\"\"\n",
    "    With this function we will plot the time series of the year that we indicate.\n",
    "    \"\"\"\n",
    "    # We create the dataframe to plot\n",
    "    plot=df[df['tz_time'].dt.year==year]\n",
    "    # We plot the dataframe\n",
    "    sns.lineplot(x='tz_time',y='value',data=plot)\n",
    "\n",
    "def plot_all_years(self,df,resampling='D'):\n",
    "    \"\"\"\n",
    "    With this function we will plot all the years, resampled by the period we indicate. The values shown will be the \n",
    "    mean of the period\n",
    "    \"\"\"\n",
    "    # We create the dataframe to plot\n",
    "    df_aux=df.set_index('tz_time')['value'].resample(resampling).mean()\n",
    "    # We plot the dataframe\n",
    "    sns.lineplot(x=df_aux.index,y=df_aux)  "
   ]
  },
  {
   "cell_type": "code",
   "execution_count": null,
   "metadata": {},
   "outputs": [],
   "source": []
  }
 ],
 "metadata": {
  "kernelspec": {
   "display_name": "Python 3",
   "language": "python",
   "name": "python3"
  },
  "language_info": {
   "codemirror_mode": {
    "name": "ipython",
    "version": 3
   },
   "file_extension": ".py",
   "mimetype": "text/x-python",
   "name": "python",
   "nbconvert_exporter": "python",
   "pygments_lexer": "ipython3",
   "version": "3.7.4"
  }
 },
 "nbformat": 4,
 "nbformat_minor": 2
}
