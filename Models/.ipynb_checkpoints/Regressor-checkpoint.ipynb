{
 "cells": [
  {
   "cell_type": "code",
   "execution_count": 39,
   "metadata": {},
   "outputs": [],
   "source": [
    "#%run ../Exploring_data/Exploratory_analysis.ipynb"
   ]
  },
  {
   "cell_type": "markdown",
   "metadata": {},
   "source": [
    "In the next line we are going to choose the number of days we want to predict. For this project we have chosen 7 days, but it can be changed for investigating:"
   ]
  },
  {
   "cell_type": "code",
   "execution_count": 40,
   "metadata": {},
   "outputs": [],
   "source": [
    "days = 28"
   ]
  },
  {
   "cell_type": "markdown",
   "metadata": {},
   "source": [
    "# First we are consider it as a regression problem:"
   ]
  },
  {
   "cell_type": "code",
   "execution_count": 41,
   "metadata": {},
   "outputs": [],
   "source": [
    "import pandas as pd\n",
    "import numpy as np\n",
    "import seaborn as sns\n",
    "import xgboost as xgb\n",
    "from sklearn.model_selection import train_test_split\n",
    "from sklearn.metrics import mean_squared_error, r2_score\n",
    "import matplotlib.pyplot as plt\n",
    "from sklearn.preprocessing import StandardScaler\n",
    "from sklearn.model_selection import GridSearchCV, train_test_split"
   ]
  },
  {
   "cell_type": "code",
   "execution_count": 42,
   "metadata": {},
   "outputs": [],
   "source": [
    "df = pd.read_csv('./final_dataframe.csv',index_col='datetime')"
   ]
  },
  {
   "cell_type": "code",
   "execution_count": 43,
   "metadata": {},
   "outputs": [
    {
     "data": {
      "text/plain": [
       "Index(['Termino_de_facturacion_de_energia_activa_del_PVPC_eficiencia_2_periodos_(DHA)',\n",
       "       'Demanda_programada_P48_total', 'Precio_mercado_SPOT_Diario',\n",
       "       'Precio_mercado_SPOT_Intradiario_Sesion_1',\n",
       "       'Precio_mercado_SPOT_Intradiario_Sesion_2',\n",
       "       'Demanda_programada_P48_Correccion_eolica',\n",
       "       'Demanda_programada_P48_Correccion_solar',\n",
       "       'Generacion_programada_P48_Biogas', 'Generacion_programada_P48_Biomasa',\n",
       "       'Generacion_programada_P48_Ciclo_combinado',\n",
       "       'Generacion_programada_P48_Consumo_bombeo',\n",
       "       'Generacion_programada_P48_Derivados_del_petroleo_o_carbon',\n",
       "       'Generacion_programada_P48_Energia_residual',\n",
       "       'Generacion_programada_P48_Enlace_Baleares',\n",
       "       'Generacion_programada_P48_Eolica_terrestre',\n",
       "       'Generacion_programada_P48_Gas_Natural',\n",
       "       'Generacion_programada_P48_Gas_Natural_Cogeneracion',\n",
       "       'Generacion_programada_P48_Hidraulica_UGH',\n",
       "       'Generacion_programada_P48_Hidraulica_no_UGH',\n",
       "       'Generacion_programada_P48_Hulla_antracita',\n",
       "       'Generacion_programada_P48_Hulla_sub-bituminosa',\n",
       "       'Generacion_programada_P48_Nuclear',\n",
       "       'Generacion_programada_P48_Oceano_y_geotermica',\n",
       "       'Generacion_programada_P48_Residuos_domesticos_y_similares',\n",
       "       'Generacion_programada_P48_Residuos_varios',\n",
       "       'Generacion_programada_P48_Solar_fotovoltaica',\n",
       "       'Generacion_programada_P48_Solar_termica',\n",
       "       'Generacion_programada_P48_Subproductos_mineria',\n",
       "       'Generacion_programada_P48_Turbinacion_bombeo', 'day', 'month', 'year',\n",
       "       'Consumer_price_index', 'Time_required_to_get_electricity_(days)',\n",
       "       'Inflation,consumer_prices_(annual_%)',\n",
       "       'Employment_in_industry_(%_of_total_employment)', 'holidays',\n",
       "       'PIB_Trimestral', 'Var_Trim_PIB_(%)', 'Var_anual_PIB_Trim_(%)',\n",
       "       'Red_Electrica', 'IBEX35', 'Temperature', 'Weekday', 'Hour', 'sin_hour',\n",
       "       'cos_hour', 'sin_month', 'cos_month', 'sin_weekday', 'cos_weekday',\n",
       "       'Generacion', 'Demanda', 'Generacion_corr'],\n",
       "      dtype='object')"
      ]
     },
     "execution_count": 43,
     "metadata": {},
     "output_type": "execute_result"
    }
   ],
   "source": [
    "df.columns"
   ]
  },
  {
   "cell_type": "markdown",
   "metadata": {},
   "source": [
    "It is important to considerate the time that we want to predict. If we want to know the price for 1 week, we will need to shift the target column 7 days so, with the information we have today, we can predict the value for the electricity in 7 days:"
   ]
  },
  {
   "cell_type": "code",
   "execution_count": 44,
   "metadata": {},
   "outputs": [],
   "source": [
    "df = pd.concat([df,pd.get_dummies(df['Weekday'], prefix='Weekday')],axis=1)\n",
    "df = pd.concat([df,pd.get_dummies(df['Hour'], prefix='Hour')],axis=1)\n",
    "df = pd.concat([df,pd.get_dummies(df['day'], prefix='Day')],axis=1)\n",
    "df = pd.concat([df,pd.get_dummies(df['month'], prefix='Month')],axis=1)\n",
    "df = pd.concat([df,pd.get_dummies(df['year'], prefix='Year')],axis=1)\n",
    "# now drop the original columns (you don't need them anymore)\n",
    "df.drop(['Weekday','Hour','day','month','year'],axis=1, inplace=True)"
   ]
  },
  {
   "cell_type": "code",
   "execution_count": 45,
   "metadata": {},
   "outputs": [],
   "source": [
    "#Queremos adivinarlo con 7 días de antelacion: 7x24 = 168\n",
    "df['Termino_de_facturacion_de_energia_activa_del_PVPC_eficiencia_2_periodos_(DHA)']=df['Termino_de_facturacion_de_energia_activa_del_PVPC_eficiencia_2_periodos_(DHA)'].shift(-24*days)"
   ]
  },
  {
   "cell_type": "code",
   "execution_count": 46,
   "metadata": {},
   "outputs": [],
   "source": [
    "df.dropna(axis=0,how='any',inplace=True)"
   ]
  },
  {
   "cell_type": "code",
   "execution_count": 47,
   "metadata": {},
   "outputs": [],
   "source": [
    "model_columns = ['Demanda_programada_P48_total', \n",
    "                 'Demanda_programada_P48_Correccion_eolica',\n",
    "                 'Demanda_programada_P48_Correccion_solar',\n",
    "                 'Precio_mercado_SPOT_Diario',\n",
    "                 'Precio_mercado_SPOT_Intradiario_Sesion_1',\n",
    "                 'Precio_mercado_SPOT_Intradiario_Sesion_2',\n",
    "                 'Generacion_programada_P48_Biogas',\n",
    "                 'Generacion_programada_P48_Biomasa',\n",
    "                 'Generacion_programada_P48_Ciclo_combinado',\n",
    "                 'Generacion_programada_P48_Consumo_bombeo',\n",
    "                 'Generacion_programada_P48_Derivados_del_petroleo_o_carbon',\n",
    "                 'Generacion_programada_P48_Energia_residual',\n",
    "                 'Generacion_programada_P48_Enlace_Baleares',\n",
    "                 'Generacion_programada_P48_Eolica_terrestre',\n",
    "                 'Generacion_programada_P48_Gas_Natural',\n",
    "                 'Generacion_programada_P48_Gas_Natural_Cogeneracion',\n",
    "                 'Generacion_programada_P48_Hidraulica_UGH',\n",
    "                 'Generacion_programada_P48_Hidraulica_no_UGH',\n",
    "                 'Generacion_programada_P48_Hulla_antracita',\n",
    "                 'Generacion_programada_P48_Hulla_sub-bituminosa',\n",
    "                 'Generacion_programada_P48_Nuclear',\n",
    "                 'Generacion_programada_P48_Oceano_y_geotermica',\n",
    "                 'Generacion_programada_P48_Residuos_domesticos_y_similares',\n",
    "                 'Generacion_programada_P48_Residuos_varios',\n",
    "                 'Generacion_programada_P48_Solar_fotovoltaica',\n",
    "                 'Generacion_programada_P48_Solar_termica',\n",
    "                 'Generacion_programada_P48_Subproductos_mineria',\n",
    "                 'Generacion_programada_P48_Turbinacion_bombeo',\n",
    "                 'Consumer_price_index', \n",
    "                 'Time_required_to_get_electricity_(days)',\n",
    "                 'Inflation,consumer_prices_(annual_%)',\n",
    "                 'Employment_in_industry_(%_of_total_employment)', \n",
    "                 'PIB_Trimestral', \n",
    "                 'Var_Trim_PIB_(%)', \n",
    "                 'Var_anual_PIB_Trim_(%)',\n",
    "                 'IBEX35',\n",
    "                 'Red_Electrica',\n",
    "                 'Temperature',\n",
    "                 #'Weekday_Monday','Weekday_Tuesday', 'Weekday_Wednesday','Weekday_Thursday',\n",
    "                 #'Weekday_Friday', 'Weekday_Saturday', \n",
    "                 'sin_weekday','cos_weekday',\n",
    "                 'holidays', \n",
    "                 #'Hour_0', 'Hour_1', 'Hour_2',\n",
    "                 #'Hour_3', 'Hour_4', 'Hour_5', 'Hour_6', 'Hour_7', 'Hour_8', 'Hour_9',\n",
    "                 #'Hour_10', 'Hour_11', 'Hour_12', 'Hour_13', 'Hour_14', 'Hour_15',\n",
    "                 #'Hour_16', 'Hour_17', 'Hour_18', 'Hour_19', 'Hour_20', 'Hour_21',\n",
    "                 #'Hour_22',\n",
    "                 'sin_hour','cos_hour','sin_month','cos_month',\n",
    "                 #'Month_1', 'Month_2', 'Month_3', 'Month_4', 'Month_5', 'Month_6',\n",
    "                 #'Month_7', 'Month_8', 'Month_9', 'Month_10', 'Month_11',\n",
    "                 'Day_1', 'Day_2', 'Day_3', 'Day_4', 'Day_5', 'Day_6', 'Day_7', 'Day_8',\n",
    "                 'Day_9', 'Day_10', 'Day_11', 'Day_12', 'Day_13', 'Day_14', 'Day_15',\n",
    "                 'Day_16', 'Day_17', 'Day_18', 'Day_19', 'Day_20', 'Day_21', 'Day_22',\n",
    "                 'Day_23', 'Day_24', 'Day_25', 'Day_26', 'Day_27', 'Day_28', 'Day_29',\n",
    "                 'Day_30']"
   ]
  },
  {
   "cell_type": "code",
   "execution_count": 48,
   "metadata": {
    "scrolled": true
   },
   "outputs": [],
   "source": [
    "X = df.loc[:,model_columns]\n",
    "y = df.loc[:,'Termino_de_facturacion_de_energia_activa_del_PVPC_eficiencia_2_periodos_(DHA)']\n",
    "X_train_aux, X_test, y_train_aux, y_test = train_test_split(X, y, train_size=0.8,test_size=0.2, random_state=101)\n",
    "X_train, X_validation, y_train, y_validation = train_test_split(X_train_aux, y_train_aux, train_size=0.8,test_size=0.2, random_state=101)"
   ]
  },
  {
   "cell_type": "code",
   "execution_count": 49,
   "metadata": {},
   "outputs": [],
   "source": [
    "xg_reg = xgb.XGBRegressor(objective ='reg:squarederror', colsample_bytree = 0.3, learning_rate = 0.1,\n",
    "                max_depth = 5, alpha = 20, n_estimators = 200, early_stopping_rounds = 15)\n",
    "\n",
    "parameters = {'colsample_bytree':[0.4,0.3],'learning_rate': [0.1,0.15,0.2],\n",
    "                'max_depth': [5,7,9]}\n",
    "\n",
    "xgb_mod = GridSearchCV(xg_reg,cv=5,verbose=1,param_grid=parameters,\n",
    "                       scoring='neg_mean_squared_error',n_jobs=-1, error_score='raise')"
   ]
  },
  {
   "cell_type": "code",
   "execution_count": null,
   "metadata": {
    "scrolled": true
   },
   "outputs": [
    {
     "name": "stdout",
     "output_type": "stream",
     "text": [
      "Fitting 5 folds for each of 18 candidates, totalling 90 fits\n"
     ]
    },
    {
     "name": "stderr",
     "output_type": "stream",
     "text": [
      "[Parallel(n_jobs=-1)]: Using backend LokyBackend with 8 concurrent workers.\n"
     ]
    }
   ],
   "source": [
    "%%time\n",
    "xgb_mod.fit(X_train,y_train)"
   ]
  },
  {
   "cell_type": "code",
   "execution_count": null,
   "metadata": {
    "scrolled": true
   },
   "outputs": [],
   "source": [
    "eval_set = [(X_train, y_train), (X_validation, y_validation)]\n",
    "\n",
    "xgb_mod.best_estimator_.fit(X_train,y_train,eval_metric=[\"rmse\", \"mae\"], eval_set=eval_set, verbose=True)"
   ]
  },
  {
   "cell_type": "code",
   "execution_count": null,
   "metadata": {
    "scrolled": true
   },
   "outputs": [],
   "source": [
    "pd.DataFrame(xgb_mod.best_estimator_.feature_importances_.reshape(1, -1), columns=X.columns)"
   ]
  },
  {
   "cell_type": "code",
   "execution_count": null,
   "metadata": {
    "scrolled": false
   },
   "outputs": [],
   "source": [
    "np.sqrt(abs(xgb_mod.best_score_))"
   ]
  },
  {
   "cell_type": "code",
   "execution_count": null,
   "metadata": {},
   "outputs": [],
   "source": [
    "xgb.plot_importance(xgb_mod.best_estimator_)\n",
    "plt.rcParams['figure.figsize'] = [10, 10]\n",
    "plt.show()"
   ]
  },
  {
   "cell_type": "code",
   "execution_count": null,
   "metadata": {
    "scrolled": true
   },
   "outputs": [],
   "source": [
    "y_pred = xgb_mod.best_estimator_.predict(X_test) "
   ]
  },
  {
   "cell_type": "code",
   "execution_count": null,
   "metadata": {
    "scrolled": true
   },
   "outputs": [],
   "source": [
    "np.sqrt(mean_squared_error(y_test, y_pred))"
   ]
  },
  {
   "cell_type": "code",
   "execution_count": null,
   "metadata": {},
   "outputs": [],
   "source": [
    "r2_score(y_test, y_pred)"
   ]
  },
  {
   "cell_type": "code",
   "execution_count": null,
   "metadata": {
    "scrolled": false
   },
   "outputs": [],
   "source": [
    "plt.rcParams['figure.figsize'] = [50, 25]\n",
    "plt.plot(y_test, label='test')\n",
    "plt.plot(y_pred, label='pred')\n",
    "plt.legend()\n",
    "plt.show()"
   ]
  },
  {
   "cell_type": "code",
   "execution_count": null,
   "metadata": {},
   "outputs": [],
   "source": [
    "pd.DataFrame({'y_test':y_test, 'y_pred':y_pred},index = y_test.index).to_csv('./../Visualization/Xgboost.csv')"
   ]
  },
  {
   "cell_type": "markdown",
   "metadata": {},
   "source": [
    "# If we consider it as a time series problem:"
   ]
  },
  {
   "cell_type": "code",
   "execution_count": null,
   "metadata": {},
   "outputs": [],
   "source": [
    "df = pd.read_csv('./final_dataframe.csv',index_col='datetime')"
   ]
  },
  {
   "cell_type": "markdown",
   "metadata": {},
   "source": [
    "It is important to considerate the time that we want to predict. If we want to know the price for 1 week, we will need to shift the target column 7 days so, with the information we have today, we can predict the value for the electricity in 7 days:"
   ]
  },
  {
   "cell_type": "code",
   "execution_count": null,
   "metadata": {},
   "outputs": [],
   "source": [
    "df = pd.concat([df,pd.get_dummies(df['Weekday'], prefix='Weekday')],axis=1)\n",
    "df = pd.concat([df,pd.get_dummies(df['Hour'], prefix='Hour')],axis=1)\n",
    "df = pd.concat([df,pd.get_dummies(df['day'], prefix='Day')],axis=1)\n",
    "df = pd.concat([df,pd.get_dummies(df['month'], prefix='Month')],axis=1)\n",
    "df = pd.concat([df,pd.get_dummies(df['year'], prefix='Year')],axis=1)\n",
    "# now drop the original columns (you don't need them anymore)\n",
    "df.drop(['Weekday','Hour','day','month','year'],axis=1, inplace=True)"
   ]
  },
  {
   "cell_type": "code",
   "execution_count": null,
   "metadata": {},
   "outputs": [],
   "source": [
    "#Queremos adivinarlo con 7 días de antelacion: 7x24 = 168\n",
    "df['Termino_de_facturacion_de_energia_activa_del_PVPC_eficiencia_2_periodos_(DHA)']=df['Termino_de_facturacion_de_energia_activa_del_PVPC_eficiencia_2_periodos_(DHA)'].shift(-24*days)"
   ]
  },
  {
   "cell_type": "code",
   "execution_count": null,
   "metadata": {},
   "outputs": [],
   "source": [
    "df.dropna(axis=0,how='any',inplace=True)"
   ]
  },
  {
   "cell_type": "code",
   "execution_count": null,
   "metadata": {},
   "outputs": [],
   "source": [
    "model_columns = ['Demanda_programada_P48_total', \n",
    "                 'Demanda_programada_P48_Correccion_eolica',\n",
    "                 'Demanda_programada_P48_Correccion_solar',\n",
    "                 'Precio_mercado_SPOT_Diario',\n",
    "                 'Precio_mercado_SPOT_Intradiario_Sesion_1',\n",
    "                 'Precio_mercado_SPOT_Intradiario_Sesion_2',\n",
    "                 'Generacion_programada_P48_Biogas',\n",
    "                 'Generacion_programada_P48_Biomasa',\n",
    "                 'Generacion_programada_P48_Ciclo_combinado',\n",
    "                 'Generacion_programada_P48_Consumo_bombeo',\n",
    "                 'Generacion_programada_P48_Derivados_del_petroleo_o_carbon',\n",
    "                 'Generacion_programada_P48_Energia_residual',\n",
    "                 'Generacion_programada_P48_Enlace_Baleares',\n",
    "                 'Generacion_programada_P48_Eolica_terrestre',\n",
    "                 'Generacion_programada_P48_Gas_Natural',\n",
    "                 'Generacion_programada_P48_Gas_Natural_Cogeneracion',\n",
    "                 'Generacion_programada_P48_Hidraulica_UGH',\n",
    "                 'Generacion_programada_P48_Hidraulica_no_UGH',\n",
    "                 'Generacion_programada_P48_Hulla_antracita',\n",
    "                 'Generacion_programada_P48_Hulla_sub-bituminosa',\n",
    "                 'Generacion_programada_P48_Nuclear',\n",
    "                 'Generacion_programada_P48_Oceano_y_geotermica',\n",
    "                 'Generacion_programada_P48_Residuos_domesticos_y_similares',\n",
    "                 'Generacion_programada_P48_Residuos_varios',\n",
    "                 'Generacion_programada_P48_Solar_fotovoltaica',\n",
    "                 'Generacion_programada_P48_Solar_termica',\n",
    "                 'Generacion_programada_P48_Subproductos_mineria',\n",
    "                 'Generacion_programada_P48_Turbinacion_bombeo',\n",
    "                 #'Consumer_price_index', \n",
    "                 #'Time_required_to_get_electricity_(days)',\n",
    "                 #'Inflation,consumer_prices_(annual_%)',\n",
    "                 #'Employment_in_industry_(%_of_total_employment)', \n",
    "                 #'PIB_Trimestral', \n",
    "                 #'Var_Trim_PIB_(%)', \n",
    "                 #'Var_anual_PIB_Trim_(%)',\n",
    "                 #'IBEX35',\n",
    "                 #'Red_Electrica',\n",
    "                 'Temperature',\n",
    "                 #'Weekday_Monday','Weekday_Tuesday', 'Weekday_Wednesday','Weekday_Thursday',\n",
    "                 #'Weekday_Friday', 'Weekday_Saturday', \n",
    "                 'sin_weekday','cos_weekday',\n",
    "                 'holidays', \n",
    "                 #'Hour_0', 'Hour_1', 'Hour_2',\n",
    "                 #'Hour_3', 'Hour_4', 'Hour_5', 'Hour_6', 'Hour_7', 'Hour_8', 'Hour_9',\n",
    "                 #'Hour_10', 'Hour_11', 'Hour_12', 'Hour_13', 'Hour_14', 'Hour_15',\n",
    "                 #'Hour_16', 'Hour_17', 'Hour_18', 'Hour_19', 'Hour_20', 'Hour_21',\n",
    "                 #'Hour_22',\n",
    "                 'sin_hour','cos_hour','sin_month','cos_month',\n",
    "                 #'Month_1', 'Month_2', 'Month_3', 'Month_4', 'Month_5', 'Month_6',\n",
    "                 #'Month_7', 'Month_8', 'Month_9', 'Month_10', 'Month_11',\n",
    "                 'Day_1', 'Day_2', 'Day_3', 'Day_4', 'Day_5', 'Day_6', 'Day_7', 'Day_8',\n",
    "                 'Day_9', 'Day_10', 'Day_11', 'Day_12', 'Day_13', 'Day_14', 'Day_15',\n",
    "                 'Day_16', 'Day_17', 'Day_18', 'Day_19', 'Day_20', 'Day_21', 'Day_22',\n",
    "                 'Day_23', 'Day_24', 'Day_25', 'Day_26', 'Day_27', 'Day_28', 'Day_29',\n",
    "                 'Day_30']\n",
    "\n",
    "standarized_columns = ['Demanda_programada_P48_total', \n",
    "                 'Demanda_programada_P48_Correccion_eolica',\n",
    "                 'Demanda_programada_P48_Correccion_solar',\n",
    "                 'Precio_mercado_SPOT_Diario',\n",
    "                 'Precio_mercado_SPOT_Intradiario_Sesion_1',\n",
    "                 'Precio_mercado_SPOT_Intradiario_Sesion_2',\n",
    "                 'Generacion_programada_P48_Biogas',\n",
    "                 'Generacion_programada_P48_Biomasa',\n",
    "                 'Generacion_programada_P48_Ciclo_combinado',\n",
    "                 'Generacion_programada_P48_Consumo_bombeo',\n",
    "                 'Generacion_programada_P48_Derivados_del_petroleo_o_carbon',\n",
    "                 'Generacion_programada_P48_Energia_residual',\n",
    "                 'Generacion_programada_P48_Enlace_Baleares',\n",
    "                 'Generacion_programada_P48_Eolica_terrestre',\n",
    "                 'Generacion_programada_P48_Gas_Natural',\n",
    "                 'Generacion_programada_P48_Gas_Natural_Cogeneracion',\n",
    "                 'Generacion_programada_P48_Hidraulica_UGH',\n",
    "                 'Generacion_programada_P48_Hidraulica_no_UGH',\n",
    "                 'Generacion_programada_P48_Hulla_antracita',\n",
    "                 'Generacion_programada_P48_Hulla_sub-bituminosa',\n",
    "                 'Generacion_programada_P48_Nuclear',\n",
    "                 'Generacion_programada_P48_Oceano_y_geotermica',\n",
    "                 'Generacion_programada_P48_Residuos_domesticos_y_similares',\n",
    "                 'Generacion_programada_P48_Residuos_varios',\n",
    "                 'Generacion_programada_P48_Solar_fotovoltaica',\n",
    "                 'Generacion_programada_P48_Solar_termica',\n",
    "                 'Generacion_programada_P48_Subproductos_mineria',\n",
    "                 'Generacion_programada_P48_Turbinacion_bombeo',\n",
    "                 #'Consumer_price_index', \n",
    "                 #'Time_required_to_get_electricity_(days)',\n",
    "                 #'Inflation,consumer_prices_(annual_%)',\n",
    "                 #'Employment_in_industry_(%_of_total_employment)', \n",
    "                 #'PIB_Trimestral', \n",
    "                 #'Var_Trim_PIB_(%)', \n",
    "                 #'Var_anual_PIB_Trim_(%)',\n",
    "                 #'IBEX35',\n",
    "                 #'Red_Electrica',\n",
    "                 'Temperature']"
   ]
  },
  {
   "cell_type": "code",
   "execution_count": null,
   "metadata": {
    "scrolled": true
   },
   "outputs": [],
   "source": [
    "X = df.loc[:,model_columns]\n",
    "y = df.loc[:,'Termino_de_facturacion_de_energia_activa_del_PVPC_eficiencia_2_periodos_(DHA)']\n",
    "\n",
    "scaler = StandardScaler()\n",
    "scaled_data = scaler.fit_transform(X[standarized_columns]) \n",
    "\n",
    "X[standarized_columns] = scaled_data\n",
    "\n",
    "y_train = df.loc[:'2018-06-01 00:00:00+00:00','Termino_de_facturacion_de_energia_activa_del_PVPC_eficiencia_2_periodos_(DHA)']\n",
    "X_train = df.loc[:'2018-06-01 00:00:00+00:00',model_columns]\n",
    "y_validation = df.loc['2018-06-01 00:00:00+00:00':'2019-06-01 00:00:00+00:00','Termino_de_facturacion_de_energia_activa_del_PVPC_eficiencia_2_periodos_(DHA)']\n",
    "X_validation = df.loc['2018-06-01 00:00:00+00:00':'2019-06-01 00:00:00+00:00',model_columns]\n",
    "y_test = df.loc['2019-06-01 00:00:00+00:00':,'Termino_de_facturacion_de_energia_activa_del_PVPC_eficiencia_2_periodos_(DHA)']\n",
    "X_test = df.loc['2019-06-01 00:00:00+00:00':,model_columns]"
   ]
  },
  {
   "cell_type": "code",
   "execution_count": null,
   "metadata": {},
   "outputs": [],
   "source": [
    "xg_reg = xgb.XGBRegressor(objective ='reg:squarederror', colsample_bytree = 0.3, learning_rate = 0.1,\n",
    "                max_depth = 5, alpha = 20, n_estimators = 200, early_stopping_rounds = 15)\n",
    "\n",
    "parameters = {'colsample_bytree':[0.4,0.3],'learning_rate': [0.1,0.15,0.2],\n",
    "                'max_depth': [5,7,9]}\n",
    "\n",
    "xgb_mod = GridSearchCV(xg_reg,cv=5,verbose=1,param_grid=parameters,\n",
    "                       scoring='neg_mean_squared_error',n_jobs=-1, error_score='raise')"
   ]
  },
  {
   "cell_type": "code",
   "execution_count": null,
   "metadata": {
    "scrolled": true
   },
   "outputs": [],
   "source": [
    "%%time\n",
    "xgb_mod.fit(X_train,y_train)"
   ]
  },
  {
   "cell_type": "code",
   "execution_count": null,
   "metadata": {
    "scrolled": true
   },
   "outputs": [],
   "source": [
    "eval_set = [(X_train, y_train), (X_validation, y_validation)]\n",
    "\n",
    "xgb_mod.best_estimator_.fit(X_train,y_train,eval_metric=[\"rmse\", \"mae\"], eval_set=eval_set, verbose=True)"
   ]
  },
  {
   "cell_type": "code",
   "execution_count": null,
   "metadata": {
    "scrolled": true
   },
   "outputs": [],
   "source": [
    "pd.DataFrame(xgb_mod.best_estimator_.feature_importances_.reshape(1, -1), columns=X.columns)"
   ]
  },
  {
   "cell_type": "code",
   "execution_count": null,
   "metadata": {
    "scrolled": false
   },
   "outputs": [],
   "source": [
    "np.sqrt(abs(xgb_mod.best_score_))"
   ]
  },
  {
   "cell_type": "code",
   "execution_count": null,
   "metadata": {
    "scrolled": true
   },
   "outputs": [],
   "source": [
    "xgb.plot_importance(xgb_mod.best_estimator_)\n",
    "plt.rcParams['figure.figsize'] = [10, 10]\n",
    "plt.show()"
   ]
  },
  {
   "cell_type": "code",
   "execution_count": null,
   "metadata": {
    "scrolled": true
   },
   "outputs": [],
   "source": [
    "y_pred = xgb_mod.best_estimator_.predict(X_test) "
   ]
  },
  {
   "cell_type": "code",
   "execution_count": null,
   "metadata": {
    "scrolled": true
   },
   "outputs": [],
   "source": [
    "np.sqrt(mean_squared_error(y_test, y_pred))"
   ]
  },
  {
   "cell_type": "code",
   "execution_count": null,
   "metadata": {},
   "outputs": [],
   "source": [
    "r2_score(y_test,y_pred)"
   ]
  },
  {
   "cell_type": "code",
   "execution_count": null,
   "metadata": {
    "scrolled": true
   },
   "outputs": [],
   "source": [
    "plt.rcParams['figure.figsize'] = [50, 25]\n",
    "plt.plot(y_test, label='test')\n",
    "plt.plot(y_pred, label='pred')\n",
    "plt.legend()\n",
    "plt.show()"
   ]
  },
  {
   "cell_type": "code",
   "execution_count": null,
   "metadata": {},
   "outputs": [],
   "source": [
    "pd.DataFrame({'y_test':y_test, 'y_pred':y_pred},index = y_test.index).to_csv('./../Visualization/Xgboost_time_series.csv')"
   ]
  },
  {
   "cell_type": "code",
   "execution_count": null,
   "metadata": {},
   "outputs": [],
   "source": []
  }
 ],
 "metadata": {
  "kernelspec": {
   "display_name": "Python 3",
   "language": "python",
   "name": "python3"
  },
  "language_info": {
   "codemirror_mode": {
    "name": "ipython",
    "version": 3
   },
   "file_extension": ".py",
   "mimetype": "text/x-python",
   "name": "python",
   "nbconvert_exporter": "python",
   "pygments_lexer": "ipython3",
   "version": "3.7.4"
  }
 },
 "nbformat": 4,
 "nbformat_minor": 2
}
